{
  "nbformat": 4,
  "nbformat_minor": 5,
  "metadata": {
    "kernelspec": {
      "display_name": "Python 3",
      "language": "python",
      "name": "python3"
    },
    "language_info": {
      "codemirror_mode": {
        "name": "ipython",
        "version": 3
      },
      "file_extension": ".py",
      "mimetype": "text/x-python",
      "name": "python",
      "nbconvert_exporter": "python",
      "pygments_lexer": "ipython3",
      "version": "3.7.10"
    },
    "colab": {
      "name": "Collaborative_filtering.ipynb",
      "provenance": [],
      "collapsed_sections": [],
      "include_colab_link": true
    }
  },
  "cells": [
    {
      "cell_type": "markdown",
      "metadata": {
        "id": "view-in-github",
        "colab_type": "text"
      },
      "source": [
        "<a href=\"https://colab.research.google.com/github/menaenahoro/Recommendation_systems/blob/main/Collaborative_filtering.ipynb\" target=\"_parent\"><img src=\"https://colab.research.google.com/assets/colab-badge.svg\" alt=\"Open In Colab\"/></a>"
      ]
    },
    {
      "cell_type": "code",
      "metadata": {
        "id": "73757f32"
      },
      "source": [
        "import pandas as pd\n",
        "import numpy as np\n",
        "\n"
      ],
      "id": "73757f32",
      "execution_count": 2,
      "outputs": []
    },
    {
      "cell_type": "code",
      "metadata": {
        "colab": {
          "base_uri": "https://localhost:8080/"
        },
        "id": "pNTQHSuhBfSs",
        "outputId": "34a0e450-1bb6-4f7e-904f-41c80646c082"
      },
      "source": [
        "from google.colab import drive\n",
        "drive.mount('/content/drive')"
      ],
      "id": "pNTQHSuhBfSs",
      "execution_count": 1,
      "outputs": [
        {
          "output_type": "stream",
          "name": "stdout",
          "text": [
            "Mounted at /content/drive\n"
          ]
        }
      ]
    },
    {
      "cell_type": "code",
      "metadata": {
        "colab": {
          "base_uri": "https://localhost:8080/",
          "height": 204
        },
        "id": "k5YSUMJpCUIB",
        "outputId": "59c762b9-a30a-4fef-f344-12231cfb3273"
      },
      "source": [
        "column_names = ['user_id', 'item_id', 'rating', 'timestamp']\n",
        "df = pd.read_csv(\"/content/drive/MyDrive/Colab Notebooks/Recommendation_systems/u.data\", sep='\\t', names=column_names)\n",
        "df.head()"
      ],
      "id": "k5YSUMJpCUIB",
      "execution_count": 3,
      "outputs": [
        {
          "output_type": "execute_result",
          "data": {
            "text/html": [
              "<div>\n",
              "<style scoped>\n",
              "    .dataframe tbody tr th:only-of-type {\n",
              "        vertical-align: middle;\n",
              "    }\n",
              "\n",
              "    .dataframe tbody tr th {\n",
              "        vertical-align: top;\n",
              "    }\n",
              "\n",
              "    .dataframe thead th {\n",
              "        text-align: right;\n",
              "    }\n",
              "</style>\n",
              "<table border=\"1\" class=\"dataframe\">\n",
              "  <thead>\n",
              "    <tr style=\"text-align: right;\">\n",
              "      <th></th>\n",
              "      <th>user_id</th>\n",
              "      <th>item_id</th>\n",
              "      <th>rating</th>\n",
              "      <th>timestamp</th>\n",
              "    </tr>\n",
              "  </thead>\n",
              "  <tbody>\n",
              "    <tr>\n",
              "      <th>0</th>\n",
              "      <td>196</td>\n",
              "      <td>242</td>\n",
              "      <td>3</td>\n",
              "      <td>881250949</td>\n",
              "    </tr>\n",
              "    <tr>\n",
              "      <th>1</th>\n",
              "      <td>186</td>\n",
              "      <td>302</td>\n",
              "      <td>3</td>\n",
              "      <td>891717742</td>\n",
              "    </tr>\n",
              "    <tr>\n",
              "      <th>2</th>\n",
              "      <td>22</td>\n",
              "      <td>377</td>\n",
              "      <td>1</td>\n",
              "      <td>878887116</td>\n",
              "    </tr>\n",
              "    <tr>\n",
              "      <th>3</th>\n",
              "      <td>244</td>\n",
              "      <td>51</td>\n",
              "      <td>2</td>\n",
              "      <td>880606923</td>\n",
              "    </tr>\n",
              "    <tr>\n",
              "      <th>4</th>\n",
              "      <td>166</td>\n",
              "      <td>346</td>\n",
              "      <td>1</td>\n",
              "      <td>886397596</td>\n",
              "    </tr>\n",
              "  </tbody>\n",
              "</table>\n",
              "</div>"
            ],
            "text/plain": [
              "   user_id  item_id  rating  timestamp\n",
              "0      196      242       3  881250949\n",
              "1      186      302       3  891717742\n",
              "2       22      377       1  878887116\n",
              "3      244       51       2  880606923\n",
              "4      166      346       1  886397596"
            ]
          },
          "metadata": {},
          "execution_count": 3
        }
      ]
    },
    {
      "cell_type": "code",
      "metadata": {
        "colab": {
          "base_uri": "https://localhost:8080/",
          "height": 204
        },
        "id": "2tYDKETYNFC4",
        "outputId": "41c639a1-67f8-408b-aef0-0970115eb49f"
      },
      "source": [
        "data = pd.read_csv(\"/content/drive/MyDrive/Colab Notebooks/Recommendation_systems/u.item\", usecols=[0,1], names=['item_id', 'title'], sep='|', encoding='latin-1')\n",
        "data.head()"
      ],
      "id": "2tYDKETYNFC4",
      "execution_count": 4,
      "outputs": [
        {
          "output_type": "execute_result",
          "data": {
            "text/html": [
              "<div>\n",
              "<style scoped>\n",
              "    .dataframe tbody tr th:only-of-type {\n",
              "        vertical-align: middle;\n",
              "    }\n",
              "\n",
              "    .dataframe tbody tr th {\n",
              "        vertical-align: top;\n",
              "    }\n",
              "\n",
              "    .dataframe thead th {\n",
              "        text-align: right;\n",
              "    }\n",
              "</style>\n",
              "<table border=\"1\" class=\"dataframe\">\n",
              "  <thead>\n",
              "    <tr style=\"text-align: right;\">\n",
              "      <th></th>\n",
              "      <th>item_id</th>\n",
              "      <th>title</th>\n",
              "    </tr>\n",
              "  </thead>\n",
              "  <tbody>\n",
              "    <tr>\n",
              "      <th>0</th>\n",
              "      <td>1</td>\n",
              "      <td>Toy Story (1995)</td>\n",
              "    </tr>\n",
              "    <tr>\n",
              "      <th>1</th>\n",
              "      <td>2</td>\n",
              "      <td>GoldenEye (1995)</td>\n",
              "    </tr>\n",
              "    <tr>\n",
              "      <th>2</th>\n",
              "      <td>3</td>\n",
              "      <td>Four Rooms (1995)</td>\n",
              "    </tr>\n",
              "    <tr>\n",
              "      <th>3</th>\n",
              "      <td>4</td>\n",
              "      <td>Get Shorty (1995)</td>\n",
              "    </tr>\n",
              "    <tr>\n",
              "      <th>4</th>\n",
              "      <td>5</td>\n",
              "      <td>Copycat (1995)</td>\n",
              "    </tr>\n",
              "  </tbody>\n",
              "</table>\n",
              "</div>"
            ],
            "text/plain": [
              "   item_id              title\n",
              "0        1   Toy Story (1995)\n",
              "1        2   GoldenEye (1995)\n",
              "2        3  Four Rooms (1995)\n",
              "3        4  Get Shorty (1995)\n",
              "4        5     Copycat (1995)"
            ]
          },
          "metadata": {},
          "execution_count": 4
        }
      ]
    },
    {
      "cell_type": "code",
      "metadata": {
        "colab": {
          "base_uri": "https://localhost:8080/"
        },
        "id": "LtyikkpAmaTl",
        "outputId": "ddfb71e8-2107-4f2e-e7d8-fa0ebf877b26"
      },
      "source": [
        "n_users = df.user_id.nunique()\n",
        "n_items = df.item_id.nunique()\n",
        "\n",
        "print('Num. of Users: '+ str(n_users))\n",
        "print('Num of Movies: '+str(n_items))"
      ],
      "id": "LtyikkpAmaTl",
      "execution_count": 5,
      "outputs": [
        {
          "output_type": "stream",
          "name": "stdout",
          "text": [
            "Num. of Users: 943\n",
            "Num of Movies: 1682\n"
          ]
        }
      ]
    },
    {
      "cell_type": "code",
      "metadata": {
        "colab": {
          "base_uri": "https://localhost:8080/",
          "height": 204
        },
        "id": "7nKt0ahXguyK",
        "outputId": "e1dcd8bf-5b13-42b9-b756-757f10fc8b58"
      },
      "source": [
        "df1 = pd.merge(df,data,on='item_id')\n",
        "df1.head()"
      ],
      "id": "7nKt0ahXguyK",
      "execution_count": 6,
      "outputs": [
        {
          "output_type": "execute_result",
          "data": {
            "text/html": [
              "<div>\n",
              "<style scoped>\n",
              "    .dataframe tbody tr th:only-of-type {\n",
              "        vertical-align: middle;\n",
              "    }\n",
              "\n",
              "    .dataframe tbody tr th {\n",
              "        vertical-align: top;\n",
              "    }\n",
              "\n",
              "    .dataframe thead th {\n",
              "        text-align: right;\n",
              "    }\n",
              "</style>\n",
              "<table border=\"1\" class=\"dataframe\">\n",
              "  <thead>\n",
              "    <tr style=\"text-align: right;\">\n",
              "      <th></th>\n",
              "      <th>user_id</th>\n",
              "      <th>item_id</th>\n",
              "      <th>rating</th>\n",
              "      <th>timestamp</th>\n",
              "      <th>title</th>\n",
              "    </tr>\n",
              "  </thead>\n",
              "  <tbody>\n",
              "    <tr>\n",
              "      <th>0</th>\n",
              "      <td>196</td>\n",
              "      <td>242</td>\n",
              "      <td>3</td>\n",
              "      <td>881250949</td>\n",
              "      <td>Kolya (1996)</td>\n",
              "    </tr>\n",
              "    <tr>\n",
              "      <th>1</th>\n",
              "      <td>63</td>\n",
              "      <td>242</td>\n",
              "      <td>3</td>\n",
              "      <td>875747190</td>\n",
              "      <td>Kolya (1996)</td>\n",
              "    </tr>\n",
              "    <tr>\n",
              "      <th>2</th>\n",
              "      <td>226</td>\n",
              "      <td>242</td>\n",
              "      <td>5</td>\n",
              "      <td>883888671</td>\n",
              "      <td>Kolya (1996)</td>\n",
              "    </tr>\n",
              "    <tr>\n",
              "      <th>3</th>\n",
              "      <td>154</td>\n",
              "      <td>242</td>\n",
              "      <td>3</td>\n",
              "      <td>879138235</td>\n",
              "      <td>Kolya (1996)</td>\n",
              "    </tr>\n",
              "    <tr>\n",
              "      <th>4</th>\n",
              "      <td>306</td>\n",
              "      <td>242</td>\n",
              "      <td>5</td>\n",
              "      <td>876503793</td>\n",
              "      <td>Kolya (1996)</td>\n",
              "    </tr>\n",
              "  </tbody>\n",
              "</table>\n",
              "</div>"
            ],
            "text/plain": [
              "   user_id  item_id  rating  timestamp         title\n",
              "0      196      242       3  881250949  Kolya (1996)\n",
              "1       63      242       3  875747190  Kolya (1996)\n",
              "2      226      242       5  883888671  Kolya (1996)\n",
              "3      154      242       3  879138235  Kolya (1996)\n",
              "4      306      242       5  876503793  Kolya (1996)"
            ]
          },
          "metadata": {},
          "execution_count": 6
        }
      ]
    },
    {
      "cell_type": "markdown",
      "metadata": {
        "id": "FYhqB9kphbBO"
      },
      "source": [
        "**Splitting Our DataSet**"
      ],
      "id": "FYhqB9kphbBO"
    },
    {
      "cell_type": "code",
      "metadata": {
        "id": "21881924"
      },
      "source": [
        "#Creating a train & test dataset\n",
        "from sklearn.model_selection import train_test_split\n",
        "train_data, test_data = train_test_split(df1, test_size=0.25)"
      ],
      "id": "21881924",
      "execution_count": 7,
      "outputs": []
    },
    {
      "cell_type": "code",
      "metadata": {
        "colab": {
          "base_uri": "https://localhost:8080/",
          "height": 204
        },
        "id": "9tOMeWNchaEo",
        "outputId": "2adc4cfe-15b5-413a-d380-3e3b2191ec1e"
      },
      "source": [
        "train_data.head()"
      ],
      "id": "9tOMeWNchaEo",
      "execution_count": 8,
      "outputs": [
        {
          "output_type": "execute_result",
          "data": {
            "text/html": [
              "<div>\n",
              "<style scoped>\n",
              "    .dataframe tbody tr th:only-of-type {\n",
              "        vertical-align: middle;\n",
              "    }\n",
              "\n",
              "    .dataframe tbody tr th {\n",
              "        vertical-align: top;\n",
              "    }\n",
              "\n",
              "    .dataframe thead th {\n",
              "        text-align: right;\n",
              "    }\n",
              "</style>\n",
              "<table border=\"1\" class=\"dataframe\">\n",
              "  <thead>\n",
              "    <tr style=\"text-align: right;\">\n",
              "      <th></th>\n",
              "      <th>user_id</th>\n",
              "      <th>item_id</th>\n",
              "      <th>rating</th>\n",
              "      <th>timestamp</th>\n",
              "      <th>title</th>\n",
              "    </tr>\n",
              "  </thead>\n",
              "  <tbody>\n",
              "    <tr>\n",
              "      <th>79724</th>\n",
              "      <td>624</td>\n",
              "      <td>886</td>\n",
              "      <td>4</td>\n",
              "      <td>879792251</td>\n",
              "      <td>Life Less Ordinary, A (1997)</td>\n",
              "    </tr>\n",
              "    <tr>\n",
              "      <th>62969</th>\n",
              "      <td>496</td>\n",
              "      <td>433</td>\n",
              "      <td>4</td>\n",
              "      <td>876066904</td>\n",
              "      <td>Heathers (1989)</td>\n",
              "    </tr>\n",
              "    <tr>\n",
              "      <th>15819</th>\n",
              "      <td>346</td>\n",
              "      <td>685</td>\n",
              "      <td>3</td>\n",
              "      <td>874950383</td>\n",
              "      <td>Executive Decision (1996)</td>\n",
              "    </tr>\n",
              "    <tr>\n",
              "      <th>18491</th>\n",
              "      <td>271</td>\n",
              "      <td>317</td>\n",
              "      <td>3</td>\n",
              "      <td>885848863</td>\n",
              "      <td>In the Name of the Father (1993)</td>\n",
              "    </tr>\n",
              "    <tr>\n",
              "      <th>88256</th>\n",
              "      <td>295</td>\n",
              "      <td>420</td>\n",
              "      <td>4</td>\n",
              "      <td>879518233</td>\n",
              "      <td>Alice in Wonderland (1951)</td>\n",
              "    </tr>\n",
              "  </tbody>\n",
              "</table>\n",
              "</div>"
            ],
            "text/plain": [
              "       user_id  item_id  rating  timestamp                             title\n",
              "79724      624      886       4  879792251      Life Less Ordinary, A (1997)\n",
              "62969      496      433       4  876066904                   Heathers (1989)\n",
              "15819      346      685       3  874950383         Executive Decision (1996)\n",
              "18491      271      317       3  885848863  In the Name of the Father (1993)\n",
              "88256      295      420       4  879518233        Alice in Wonderland (1951)"
            ]
          },
          "metadata": {},
          "execution_count": 8
        }
      ]
    },
    {
      "cell_type": "code",
      "metadata": {
        "colab": {
          "base_uri": "https://localhost:8080/",
          "height": 204
        },
        "id": "Ipos679Zh7cj",
        "outputId": "8fcb6d64-9881-4555-9298-9d94d0f66dc2"
      },
      "source": [
        "test_data.head()"
      ],
      "id": "Ipos679Zh7cj",
      "execution_count": 9,
      "outputs": [
        {
          "output_type": "execute_result",
          "data": {
            "text/html": [
              "<div>\n",
              "<style scoped>\n",
              "    .dataframe tbody tr th:only-of-type {\n",
              "        vertical-align: middle;\n",
              "    }\n",
              "\n",
              "    .dataframe tbody tr th {\n",
              "        vertical-align: top;\n",
              "    }\n",
              "\n",
              "    .dataframe thead th {\n",
              "        text-align: right;\n",
              "    }\n",
              "</style>\n",
              "<table border=\"1\" class=\"dataframe\">\n",
              "  <thead>\n",
              "    <tr style=\"text-align: right;\">\n",
              "      <th></th>\n",
              "      <th>user_id</th>\n",
              "      <th>item_id</th>\n",
              "      <th>rating</th>\n",
              "      <th>timestamp</th>\n",
              "      <th>title</th>\n",
              "    </tr>\n",
              "  </thead>\n",
              "  <tbody>\n",
              "    <tr>\n",
              "      <th>81339</th>\n",
              "      <td>667</td>\n",
              "      <td>192</td>\n",
              "      <td>5</td>\n",
              "      <td>891034947</td>\n",
              "      <td>Raging Bull (1980)</td>\n",
              "    </tr>\n",
              "    <tr>\n",
              "      <th>17445</th>\n",
              "      <td>295</td>\n",
              "      <td>151</td>\n",
              "      <td>4</td>\n",
              "      <td>879517635</td>\n",
              "      <td>Willy Wonka and the Chocolate Factory (1971)</td>\n",
              "    </tr>\n",
              "    <tr>\n",
              "      <th>62576</th>\n",
              "      <td>734</td>\n",
              "      <td>230</td>\n",
              "      <td>2</td>\n",
              "      <td>891022803</td>\n",
              "      <td>Star Trek IV: The Voyage Home (1986)</td>\n",
              "    </tr>\n",
              "    <tr>\n",
              "      <th>47152</th>\n",
              "      <td>720</td>\n",
              "      <td>315</td>\n",
              "      <td>4</td>\n",
              "      <td>891262608</td>\n",
              "      <td>Apt Pupil (1998)</td>\n",
              "    </tr>\n",
              "    <tr>\n",
              "      <th>76892</th>\n",
              "      <td>927</td>\n",
              "      <td>411</td>\n",
              "      <td>4</td>\n",
              "      <td>879182939</td>\n",
              "      <td>Nutty Professor, The (1996)</td>\n",
              "    </tr>\n",
              "  </tbody>\n",
              "</table>\n",
              "</div>"
            ],
            "text/plain": [
              "       user_id  ...                                         title\n",
              "81339      667  ...                            Raging Bull (1980)\n",
              "17445      295  ...  Willy Wonka and the Chocolate Factory (1971)\n",
              "62576      734  ...          Star Trek IV: The Voyage Home (1986)\n",
              "47152      720  ...                              Apt Pupil (1998)\n",
              "76892      927  ...                   Nutty Professor, The (1996)\n",
              "\n",
              "[5 rows x 5 columns]"
            ]
          },
          "metadata": {},
          "execution_count": 9
        }
      ]
    },
    {
      "cell_type": "markdown",
      "metadata": {
        "id": "2c6e6c4a"
      },
      "source": [
        "## Creating a matrix vector and then using the rating to calculate the similarity"
      ],
      "id": "2c6e6c4a"
    },
    {
      "cell_type": "code",
      "metadata": {
        "id": "TqpQsO1BiFVY"
      },
      "source": [
        "#Create two user-item matrices, one for training and another for testing\n",
        "train_data_matrix = np.zeros((n_users, n_items))\n",
        "for line in train_data.itertuples():\n",
        "    train_data_matrix[line[1]-1, line[2]-1] = line[3]  \n",
        "\n",
        "test_data_matrix = np.zeros((n_users, n_items))\n",
        "for line in test_data.itertuples():\n",
        "    test_data_matrix[line[1]-1, line[2]-1] = line[3]"
      ],
      "id": "TqpQsO1BiFVY",
      "execution_count": 10,
      "outputs": []
    },
    {
      "cell_type": "code",
      "metadata": {
        "colab": {
          "base_uri": "https://localhost:8080/"
        },
        "id": "xqvYL6dRibBI",
        "outputId": "f42a9519-3a4c-4353-871a-97d2f6a5a0f2"
      },
      "source": [
        "print(train_data_matrix)"
      ],
      "id": "xqvYL6dRibBI",
      "execution_count": 11,
      "outputs": [
        {
          "output_type": "stream",
          "name": "stdout",
          "text": [
            "[[0. 0. 4. ... 0. 0. 0.]\n",
            " [0. 0. 0. ... 0. 0. 0.]\n",
            " [0. 0. 0. ... 0. 0. 0.]\n",
            " ...\n",
            " [5. 0. 0. ... 0. 0. 0.]\n",
            " [0. 0. 0. ... 0. 0. 0.]\n",
            " [0. 5. 0. ... 0. 0. 0.]]\n"
          ]
        }
      ]
    },
    {
      "cell_type": "code",
      "metadata": {
        "id": "6e3b6638"
      },
      "source": [
        "'''Using pairwise distances to calculate the similarity and create a matrix vector with output 0-1'''\n",
        "from sklearn.metrics.pairwise import pairwise_distances\n",
        "\n",
        "user_similarity = pairwise_distances(train_data_matrix, metric='cosine')\n",
        "\n",
        "item_similarity = pairwise_distances(train_data_matrix.T, metric='cosine') #Using matrix transpose .T\n"
      ],
      "id": "6e3b6638",
      "execution_count": 12,
      "outputs": []
    },
    {
      "cell_type": "code",
      "metadata": {
        "id": "90726a7e",
        "colab": {
          "base_uri": "https://localhost:8080/"
        },
        "outputId": "b78f630e-7e17-478b-8c39-adfca035d7a8"
      },
      "source": [
        "user_similarity"
      ],
      "id": "90726a7e",
      "execution_count": 13,
      "outputs": [
        {
          "output_type": "execute_result",
          "data": {
            "text/plain": [
              "array([[0.        , 0.84232307, 0.95419124, ..., 0.87105478, 0.88004756,\n",
              "        0.69000669],\n",
              "       [0.84232307, 0.        , 0.91298734, ..., 0.84153181, 0.91667526,\n",
              "        0.9040425 ],\n",
              "       [0.95419124, 0.91298734, 0.        , ..., 0.90144049, 0.92052463,\n",
              "        0.96620014],\n",
              "       ...,\n",
              "       [0.87105478, 0.84153181, 0.90144049, ..., 0.        , 0.89950045,\n",
              "        0.89887131],\n",
              "       [0.88004756, 0.91667526, 0.92052463, ..., 0.89950045, 0.        ,\n",
              "        0.86706288],\n",
              "       [0.69000669, 0.9040425 , 0.96620014, ..., 0.89887131, 0.86706288,\n",
              "        0.        ]])"
            ]
          },
          "metadata": {},
          "execution_count": 13
        }
      ]
    },
    {
      "cell_type": "code",
      "metadata": {
        "id": "b1fa8ba8"
      },
      "source": [
        "def predict(ratings, similarity, type='user'):\n",
        "    if type == 'user':\n",
        "        mean_user_rating = ratings.mean(axis=1)\n",
        "        #You use np.newaxis so that mean_user_rating has same format as ratings\n",
        "        ratings_diff = (ratings - mean_user_rating[:, np.newaxis]) \n",
        "        pred = mean_user_rating[:, np.newaxis] + similarity.dot(ratings_diff) / np.array([np.abs(similarity).sum(axis=1)]).T\n",
        "    elif type == 'item':\n",
        "        pred = ratings.dot(similarity) / np.array([np.abs(similarity).sum(axis=1)])     \n",
        "    return pred\n",
        "\n",
        "\n",
        "\n",
        "item_prediction = predict(train_data_matrix, item_similarity, type='item')\n",
        "user_prediction = predict(train_data_matrix, user_similarity, type='user')\n",
        "\n"
      ],
      "id": "b1fa8ba8",
      "execution_count": 14,
      "outputs": []
    },
    {
      "cell_type": "code",
      "metadata": {
        "colab": {
          "base_uri": "https://localhost:8080/"
        },
        "id": "fEPerptzEq4N",
        "outputId": "dc32d4a5-9cf1-4c73-f97a-83094eb25c8c"
      },
      "source": [
        "item_prediction"
      ],
      "id": "fEPerptzEq4N",
      "execution_count": 20,
      "outputs": [
        {
          "output_type": "execute_result",
          "data": {
            "text/plain": [
              "array([[0.3559151 , 0.36452439, 0.37831982, ..., 0.42750327, 0.42593694,\n",
              "        0.42593694],\n",
              "       [0.0897685 , 0.10203258, 0.09748293, ..., 0.10127517, 0.10291493,\n",
              "        0.10291493],\n",
              "       [0.0710531 , 0.07450119, 0.07260166, ..., 0.07039278, 0.07376562,\n",
              "        0.07376562],\n",
              "       ...,\n",
              "       [0.03242118, 0.04111668, 0.03977172, ..., 0.04582536, 0.04580607,\n",
              "        0.04580607],\n",
              "       [0.12513181, 0.13363865, 0.14121296, ..., 0.14762059, 0.14753123,\n",
              "        0.14753123],\n",
              "       [0.21392926, 0.2021914 , 0.22692134, ..., 0.26357867, 0.26174896,\n",
              "        0.26174896]])"
            ]
          },
          "metadata": {},
          "execution_count": 20
        }
      ]
    },
    {
      "cell_type": "code",
      "metadata": {
        "id": "10e68fa8",
        "colab": {
          "base_uri": "https://localhost:8080/"
        },
        "outputId": "94b47b68-9bfd-402d-e9f6-dcd6f531067c"
      },
      "source": [
        "#Root Mean Squared Error for validation.\n",
        "from sklearn.metrics import mean_squared_error\n",
        "from math import sqrt\n",
        "def rmse(pred, test):\n",
        "    pred = pred[test.nonzero()].flatten() \n",
        "    test = test[test.nonzero()].flatten()\n",
        "    return sqrt(mean_squared_error(pred, test))\n",
        "\n",
        "print(\"Collaborative Filtering RMSE\")\n",
        "print('User-based: ', rmse(user_prediction, test_data_matrix))   # ~3.12584229228\n",
        "print('Movie-based: ', rmse(item_prediction, test_data_matrix))\t  # ~3.45381500808\n"
      ],
      "id": "10e68fa8",
      "execution_count": 19,
      "outputs": [
        {
          "output_type": "stream",
          "name": "stdout",
          "text": [
            "Collaborative Filtering RMSE\n",
            "User-based:  3.1296833506501773\n",
            "Movie-based:  3.4568277589037466\n"
          ]
        }
      ]
    },
    {
      "cell_type": "code",
      "metadata": {
        "id": "NMzcOb5MED4K"
      },
      "source": [
        ""
      ],
      "id": "NMzcOb5MED4K",
      "execution_count": null,
      "outputs": []
    }
  ]
}